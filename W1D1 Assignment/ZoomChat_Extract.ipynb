{
 "cells": [
  {
   "cell_type": "code",
   "execution_count": 1,
   "id": "f1725b2c-7fea-43ac-86fb-d57ffe3aaae2",
   "metadata": {},
   "outputs": [],
   "source": [
    "import pandas as pd\n",
    "import os\n",
    "import re"
   ]
  },
  {
   "cell_type": "code",
   "execution_count": 2,
   "id": "4de5fead-2bf1-4010-9d77-833763b48a30",
   "metadata": {},
   "outputs": [],
   "source": [
    "path = \"chat_history/\"\n",
    "zoom_logs = path + \"meeting_saved_chat 3.txt\""
   ]
  },
  {
   "cell_type": "code",
   "execution_count": 3,
   "id": "77cd4d31-d6b8-46c6-a7e5-9dc754291f38",
   "metadata": {},
   "outputs": [],
   "source": [
    "# Read the txt file\n",
    "lines = open(zoom_logs).read().splitlines()"
   ]
  },
  {
   "cell_type": "code",
   "execution_count": 4,
   "id": "36f86cb4-778b-4026-889e-a4b6cd69ec71",
   "metadata": {},
   "outputs": [],
   "source": [
    "# Split the lines into the header(tag) and the message.\n",
    "# Multiline messages are combined into a comma separated string\n",
    "\n",
    "tags = []\n",
    "messages = []\n",
    "\n",
    "\n",
    "while lines:\n",
    "    tags.append(lines.pop(0))\n",
    "    message = \"\"\n",
    "    while (lines and lines[0].startswith('\\t')):\n",
    "        if len(message) == 0:\n",
    "            message += lines.pop(0).lstrip(\"\\t\")\n",
    "        else:\n",
    "            message += ', ' + lines.pop(0).lstrip(\"\\t\")\n",
    "    messages.append(message)"
   ]
  },
  {
   "cell_type": "code",
   "execution_count": 5,
   "id": "725b6286-3a52-4096-8023-d37f70057eee",
   "metadata": {},
   "outputs": [],
   "source": [
    "# Parse through the tags to extract the sender, recipient, and timestamp\n",
    "# Senders are the value between the 'From' and 'to' in the tag\n",
    "# Recipients are after the 'to' and have the 'Direct Message' tag removed if it is not to Everyone\n",
    "\n",
    "senders = [text[text.index(\"From \")+len(\"From \"):text.index(\" to\")].strip() for text in tags]\n",
    "recipients = [text[text.index(\" to \")+len(\" to \"):-1].strip().replace(\"(Direct Message)\", \"\") for text in tags]\n",
    "timestamps = [text.split(\" \")[0] for text in tags]"
   ]
  },
  {
   "cell_type": "code",
   "execution_count": 6,
   "id": "98c4b5f7-678b-44cf-b68a-62801117dd5c",
   "metadata": {},
   "outputs": [],
   "source": [
    "# Extra structured_logs - Structured Logs\n",
    "\n",
    "structured_logs = pd.DataFrame(data={'Sender': senders, \"Recipients\": recipients, \"Time\": timestamps, \"Message\": messages})"
   ]
  },
  {
   "cell_type": "code",
   "execution_count": 7,
   "id": "df905b79-13ca-4117-b2c0-d7bf427def4c",
   "metadata": {},
   "outputs": [
    {
     "data": {
      "text/html": [
       "<div>\n",
       "<style scoped>\n",
       "    .dataframe tbody tr th:only-of-type {\n",
       "        vertical-align: middle;\n",
       "    }\n",
       "\n",
       "    .dataframe tbody tr th {\n",
       "        vertical-align: top;\n",
       "    }\n",
       "\n",
       "    .dataframe thead th {\n",
       "        text-align: right;\n",
       "    }\n",
       "</style>\n",
       "<table border=\"1\" class=\"dataframe\">\n",
       "  <thead>\n",
       "    <tr style=\"text-align: right;\">\n",
       "      <th></th>\n",
       "      <th>Sender</th>\n",
       "      <th>Recipients</th>\n",
       "      <th>Time</th>\n",
       "      <th>Message</th>\n",
       "    </tr>\n",
       "  </thead>\n",
       "  <tbody>\n",
       "    <tr>\n",
       "      <th>count</th>\n",
       "      <td>168</td>\n",
       "      <td>168</td>\n",
       "      <td>168</td>\n",
       "      <td>168</td>\n",
       "    </tr>\n",
       "    <tr>\n",
       "      <th>unique</th>\n",
       "      <td>55</td>\n",
       "      <td>9</td>\n",
       "      <td>160</td>\n",
       "      <td>161</td>\n",
       "    </tr>\n",
       "    <tr>\n",
       "      <th>top</th>\n",
       "      <td>Vikram Chandna</td>\n",
       "      <td>Everyone</td>\n",
       "      <td>08:58:50</td>\n",
       "      <td>https://chat.whatsapp.com/EJvwZfLezsdKyVzN71tuSu</td>\n",
       "    </tr>\n",
       "    <tr>\n",
       "      <th>freq</th>\n",
       "      <td>25</td>\n",
       "      <td>150</td>\n",
       "      <td>2</td>\n",
       "      <td>3</td>\n",
       "    </tr>\n",
       "  </tbody>\n",
       "</table>\n",
       "</div>"
      ],
      "text/plain": [
       "                Sender Recipients      Time  \\\n",
       "count              168        168       168   \n",
       "unique              55          9       160   \n",
       "top     Vikram Chandna   Everyone  08:58:50   \n",
       "freq                25        150         2   \n",
       "\n",
       "                                                 Message  \n",
       "count                                                168  \n",
       "unique                                               161  \n",
       "top     https://chat.whatsapp.com/EJvwZfLezsdKyVzN71tuSu  \n",
       "freq                                                   3  "
      ]
     },
     "execution_count": 7,
     "metadata": {},
     "output_type": "execute_result"
    }
   ],
   "source": [
    "structured_logs.describe()"
   ]
  },
  {
   "cell_type": "code",
   "execution_count": 9,
   "id": "00353445-01fb-43e8-9547-1a7918f5ab18",
   "metadata": {},
   "outputs": [
    {
     "name": "stdout",
     "output_type": "stream",
     "text": [
      "['', 'noahtsehai@gmail.com', '', '', 'raindrops.1021@gmail.com', 'Rachelziering1@icloud.com', 'adwaitgo@gmail.com', 'st3phani3.montgom3ry@gmail.com', 'kajalpatel7@yahoo.com', 'romasel.dadea@yahoo.com', '', 'ssiva.mobile@gmail.com', '', '', '', 'Brittany.thomson15@outlook.com', 'vchandna0612@gmail.com', '', 'abhiraammv@gmail.com', 'emailstephney@gmail.com', 'Hasibe.kahraman@hotmail.com', 'Maritere.sanabria1984@gmail.com', '', 'beshob098@gmail.com', '', 'susan.yeruski@gmail.com', '', 'abhishekguti.145@gmail.com', '', 'vvatkinson@yahoo.com', '', '', 'Bearbarebobo@gmail.com', 'jhrp64@gmail.com', '', 'robin_l_t@icloud.com', 'ping2teja@yahoo.com', 'Pguimond@govst.edu', 'faiconperry449@gmail.com', 'iceland9596@live.com', 'vijithkumarkanchana@gmail.com', '', '', '', '', '', '', 'preetidav@gmail.com', '', 'perezcruzmaria1@gmail.com', 'yili.hengg@gmail.com', '', '', '', '']\n"
     ]
    }
   ],
   "source": [
    "# Extract unique senders \n",
    "senders = structured_logs['Sender'].unique()\n",
    "\n",
    "# Extract and group all messages by Sender into a comma separated string\n",
    "chat = [\", \".join([message for message in structured_logs['Message'].loc[structured_logs['Sender'] == sender]]) for sender in senders]\n",
    "\n",
    "# Extract any email mentioned in a message using a regex pattern.\n",
    "# None is replaced with empty strings\n",
    "# TODO: Add verification to determine if email is the Senders email\n",
    "pattern = r'([A-Za-z0-9]+[.-_])*[A-Za-z0-9]+@[A-Za-z0-9-]+(\\.[A-Z|a-z]{2,})+'\n",
    "emails = [re.search(pattern, line) for line in chat]\n",
    "for i in range(len(emails)):\n",
    "    if emails[i]:\n",
    "        emails[i] = emails[i].group(0)\n",
    "emails = [\"\" if not email else email for email in emails]\n",
    "print(emails)"
   ]
  },
  {
   "cell_type": "code",
   "execution_count": 10,
   "id": "baf0a19f-e524-493d-9a05-6ace226d95cd",
   "metadata": {},
   "outputs": [],
   "source": [
    "# Construct the DataFrame for the logs with chat messages grouped by sender\n",
    "chat_logs_df = pd.DataFrame(data={'name': senders, 'email': emails, 'chat': chat})"
   ]
  },
  {
   "cell_type": "code",
   "execution_count": 11,
   "id": "7369ac56-9592-4d2e-a87a-1fa96934c76a",
   "metadata": {},
   "outputs": [],
   "source": [
    "# Sort and reindex\n",
    "chat_logs_df.sort_values('name', inplace=True)\n",
    "chat_logs_df.reset_index(drop=True, inplace=True)"
   ]
  },
  {
   "cell_type": "code",
   "execution_count": 12,
   "id": "e925cd36-3a9c-4776-b880-f57c6263e010",
   "metadata": {},
   "outputs": [],
   "source": [
    "# Export to csv\n",
    "chat_logs_df.to_csv('zoom_chat_logs.csv')"
   ]
  },
  {
   "cell_type": "code",
   "execution_count": null,
   "id": "4fccb959-4168-4a16-a484-01cddcff316b",
   "metadata": {},
   "outputs": [],
   "source": []
  }
 ],
 "metadata": {
  "kernelspec": {
   "display_name": "Python 3 (ipykernel)",
   "language": "python",
   "name": "python3"
  },
  "language_info": {
   "codemirror_mode": {
    "name": "ipython",
    "version": 3
   },
   "file_extension": ".py",
   "mimetype": "text/x-python",
   "name": "python",
   "nbconvert_exporter": "python",
   "pygments_lexer": "ipython3",
   "version": "3.10.4"
  }
 },
 "nbformat": 4,
 "nbformat_minor": 5
}
