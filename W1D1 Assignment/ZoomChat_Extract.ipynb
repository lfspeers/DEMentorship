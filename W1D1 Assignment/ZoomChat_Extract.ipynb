{
  "cells": [
    {
      "cell_type": "code",
      "source": [
        "!git clone https://github.com/lfspeers/DEMentorship"
      ],
      "metadata": {
        "id": "YHhT4jP9noj2",
        "outputId": "70b8f5dc-7364-427b-fbbe-122be2deb094",
        "colab": {
          "base_uri": "https://localhost:8080/"
        }
      },
      "id": "YHhT4jP9noj2",
      "execution_count": 31,
      "outputs": [
        {
          "output_type": "stream",
          "name": "stdout",
          "text": [
            "fatal: destination path 'DEMentorship' already exists and is not an empty directory.\n"
          ]
        }
      ]
    },
    {
      "cell_type": "code",
      "execution_count": 16,
      "id": "f1725b2c-7fea-43ac-86fb-d57ffe3aaae2",
      "metadata": {
        "id": "f1725b2c-7fea-43ac-86fb-d57ffe3aaae2"
      },
      "outputs": [],
      "source": [
        "import pandas as pd\n",
        "import os\n",
        "import re"
      ]
    },
    {
      "cell_type": "code",
      "execution_count": 21,
      "id": "4de5fead-2bf1-4010-9d77-833763b48a30",
      "metadata": {
        "id": "4de5fead-2bf1-4010-9d77-833763b48a30"
      },
      "outputs": [],
      "source": [
        "path = \"/content/DEMentorship/W1D1 Assignment/chat_history/\"\n",
        "zoom_logs = path + \"meeting_saved_chat 3.txt\""
      ]
    },
    {
      "cell_type": "code",
      "execution_count": 22,
      "id": "77cd4d31-d6b8-46c6-a7e5-9dc754291f38",
      "metadata": {
        "id": "77cd4d31-d6b8-46c6-a7e5-9dc754291f38"
      },
      "outputs": [],
      "source": [
        "# Read the txt file\n",
        "lines = open(zoom_logs).read().splitlines()"
      ]
    },
    {
      "cell_type": "code",
      "execution_count": 23,
      "id": "36f86cb4-778b-4026-889e-a4b6cd69ec71",
      "metadata": {
        "id": "36f86cb4-778b-4026-889e-a4b6cd69ec71"
      },
      "outputs": [],
      "source": [
        "# Split the lines into the header(tag) and the message.\n",
        "# Multiline messages are combined into a comma separated string\n",
        "\n",
        "tags = []\n",
        "messages = []\n",
        "\n",
        "\n",
        "while lines:\n",
        "    tags.append(lines.pop(0))\n",
        "    message = \"\"\n",
        "    while (lines and lines[0].startswith('\\t')):\n",
        "        if len(message) == 0:\n",
        "            message += lines.pop(0).lstrip(\"\\t\")\n",
        "        else:\n",
        "            message += ', ' + lines.pop(0).lstrip(\"\\t\")\n",
        "    messages.append(message)"
      ]
    },
    {
      "cell_type": "code",
      "execution_count": 24,
      "id": "725b6286-3a52-4096-8023-d37f70057eee",
      "metadata": {
        "id": "725b6286-3a52-4096-8023-d37f70057eee"
      },
      "outputs": [],
      "source": [
        "# Parse through the tags to extract the sender, recipient, and timestamp\n",
        "# Senders are the value between the 'From' and 'to' in the tag\n",
        "# Recipients are after the 'to' and have the 'Direct Message' tag removed if it is not to Everyone\n",
        "\n",
        "senders = [text[text.index(\"From \")+len(\"From \"):text.index(\" to\")].strip() for text in tags]\n",
        "recipients = [text[text.index(\" to \")+len(\" to \"):-1].strip().replace(\"(Direct Message)\", \"\") for text in tags]\n",
        "timestamps = [text.split(\" \")[0] for text in tags]"
      ]
    },
    {
      "cell_type": "code",
      "execution_count": 25,
      "id": "98c4b5f7-678b-44cf-b68a-62801117dd5c",
      "metadata": {
        "id": "98c4b5f7-678b-44cf-b68a-62801117dd5c"
      },
      "outputs": [],
      "source": [
        "# Extra structured_logs - Structured Logs\n",
        "\n",
        "structured_logs = pd.DataFrame(data={'Sender': senders, \"Recipients\": recipients, \"Time\": timestamps, \"Message\": messages})"
      ]
    },
    {
      "cell_type": "code",
      "execution_count": 26,
      "id": "df905b79-13ca-4117-b2c0-d7bf427def4c",
      "metadata": {
        "id": "df905b79-13ca-4117-b2c0-d7bf427def4c",
        "outputId": "3ae8bd48-978b-4412-af4c-e6a7f0c24505",
        "colab": {
          "base_uri": "https://localhost:8080/",
          "height": 175
        }
      },
      "outputs": [
        {
          "output_type": "execute_result",
          "data": {
            "text/plain": [
              "                Sender Recipients      Time  \\\n",
              "count              168        168       168   \n",
              "unique              55          9       160   \n",
              "top     Vikram Chandna   Everyone  08:58:50   \n",
              "freq                25        150         2   \n",
              "\n",
              "                                                 Message  \n",
              "count                                                168  \n",
              "unique                                               161  \n",
              "top     https://chat.whatsapp.com/EJvwZfLezsdKyVzN71tuSu  \n",
              "freq                                                   3  "
            ],
            "text/html": [
              "\n",
              "  <div id=\"df-64f22c50-1176-44cb-a7aa-2c0833e83fe3\">\n",
              "    <div class=\"colab-df-container\">\n",
              "      <div>\n",
              "<style scoped>\n",
              "    .dataframe tbody tr th:only-of-type {\n",
              "        vertical-align: middle;\n",
              "    }\n",
              "\n",
              "    .dataframe tbody tr th {\n",
              "        vertical-align: top;\n",
              "    }\n",
              "\n",
              "    .dataframe thead th {\n",
              "        text-align: right;\n",
              "    }\n",
              "</style>\n",
              "<table border=\"1\" class=\"dataframe\">\n",
              "  <thead>\n",
              "    <tr style=\"text-align: right;\">\n",
              "      <th></th>\n",
              "      <th>Sender</th>\n",
              "      <th>Recipients</th>\n",
              "      <th>Time</th>\n",
              "      <th>Message</th>\n",
              "    </tr>\n",
              "  </thead>\n",
              "  <tbody>\n",
              "    <tr>\n",
              "      <th>count</th>\n",
              "      <td>168</td>\n",
              "      <td>168</td>\n",
              "      <td>168</td>\n",
              "      <td>168</td>\n",
              "    </tr>\n",
              "    <tr>\n",
              "      <th>unique</th>\n",
              "      <td>55</td>\n",
              "      <td>9</td>\n",
              "      <td>160</td>\n",
              "      <td>161</td>\n",
              "    </tr>\n",
              "    <tr>\n",
              "      <th>top</th>\n",
              "      <td>Vikram Chandna</td>\n",
              "      <td>Everyone</td>\n",
              "      <td>08:58:50</td>\n",
              "      <td>https://chat.whatsapp.com/EJvwZfLezsdKyVzN71tuSu</td>\n",
              "    </tr>\n",
              "    <tr>\n",
              "      <th>freq</th>\n",
              "      <td>25</td>\n",
              "      <td>150</td>\n",
              "      <td>2</td>\n",
              "      <td>3</td>\n",
              "    </tr>\n",
              "  </tbody>\n",
              "</table>\n",
              "</div>\n",
              "      <button class=\"colab-df-convert\" onclick=\"convertToInteractive('df-64f22c50-1176-44cb-a7aa-2c0833e83fe3')\"\n",
              "              title=\"Convert this dataframe to an interactive table.\"\n",
              "              style=\"display:none;\">\n",
              "        \n",
              "  <svg xmlns=\"http://www.w3.org/2000/svg\" height=\"24px\"viewBox=\"0 0 24 24\"\n",
              "       width=\"24px\">\n",
              "    <path d=\"M0 0h24v24H0V0z\" fill=\"none\"/>\n",
              "    <path d=\"M18.56 5.44l.94 2.06.94-2.06 2.06-.94-2.06-.94-.94-2.06-.94 2.06-2.06.94zm-11 1L8.5 8.5l.94-2.06 2.06-.94-2.06-.94L8.5 2.5l-.94 2.06-2.06.94zm10 10l.94 2.06.94-2.06 2.06-.94-2.06-.94-.94-2.06-.94 2.06-2.06.94z\"/><path d=\"M17.41 7.96l-1.37-1.37c-.4-.4-.92-.59-1.43-.59-.52 0-1.04.2-1.43.59L10.3 9.45l-7.72 7.72c-.78.78-.78 2.05 0 2.83L4 21.41c.39.39.9.59 1.41.59.51 0 1.02-.2 1.41-.59l7.78-7.78 2.81-2.81c.8-.78.8-2.07 0-2.86zM5.41 20L4 18.59l7.72-7.72 1.47 1.35L5.41 20z\"/>\n",
              "  </svg>\n",
              "      </button>\n",
              "      \n",
              "  <style>\n",
              "    .colab-df-container {\n",
              "      display:flex;\n",
              "      flex-wrap:wrap;\n",
              "      gap: 12px;\n",
              "    }\n",
              "\n",
              "    .colab-df-convert {\n",
              "      background-color: #E8F0FE;\n",
              "      border: none;\n",
              "      border-radius: 50%;\n",
              "      cursor: pointer;\n",
              "      display: none;\n",
              "      fill: #1967D2;\n",
              "      height: 32px;\n",
              "      padding: 0 0 0 0;\n",
              "      width: 32px;\n",
              "    }\n",
              "\n",
              "    .colab-df-convert:hover {\n",
              "      background-color: #E2EBFA;\n",
              "      box-shadow: 0px 1px 2px rgba(60, 64, 67, 0.3), 0px 1px 3px 1px rgba(60, 64, 67, 0.15);\n",
              "      fill: #174EA6;\n",
              "    }\n",
              "\n",
              "    [theme=dark] .colab-df-convert {\n",
              "      background-color: #3B4455;\n",
              "      fill: #D2E3FC;\n",
              "    }\n",
              "\n",
              "    [theme=dark] .colab-df-convert:hover {\n",
              "      background-color: #434B5C;\n",
              "      box-shadow: 0px 1px 3px 1px rgba(0, 0, 0, 0.15);\n",
              "      filter: drop-shadow(0px 1px 2px rgba(0, 0, 0, 0.3));\n",
              "      fill: #FFFFFF;\n",
              "    }\n",
              "  </style>\n",
              "\n",
              "      <script>\n",
              "        const buttonEl =\n",
              "          document.querySelector('#df-64f22c50-1176-44cb-a7aa-2c0833e83fe3 button.colab-df-convert');\n",
              "        buttonEl.style.display =\n",
              "          google.colab.kernel.accessAllowed ? 'block' : 'none';\n",
              "\n",
              "        async function convertToInteractive(key) {\n",
              "          const element = document.querySelector('#df-64f22c50-1176-44cb-a7aa-2c0833e83fe3');\n",
              "          const dataTable =\n",
              "            await google.colab.kernel.invokeFunction('convertToInteractive',\n",
              "                                                     [key], {});\n",
              "          if (!dataTable) return;\n",
              "\n",
              "          const docLinkHtml = 'Like what you see? Visit the ' +\n",
              "            '<a target=\"_blank\" href=https://colab.research.google.com/notebooks/data_table.ipynb>data table notebook</a>'\n",
              "            + ' to learn more about interactive tables.';\n",
              "          element.innerHTML = '';\n",
              "          dataTable['output_type'] = 'display_data';\n",
              "          await google.colab.output.renderOutput(dataTable, element);\n",
              "          const docLink = document.createElement('div');\n",
              "          docLink.innerHTML = docLinkHtml;\n",
              "          element.appendChild(docLink);\n",
              "        }\n",
              "      </script>\n",
              "    </div>\n",
              "  </div>\n",
              "  "
            ]
          },
          "metadata": {},
          "execution_count": 26
        }
      ],
      "source": [
        "structured_logs.describe()"
      ]
    },
    {
      "cell_type": "code",
      "execution_count": 27,
      "id": "00353445-01fb-43e8-9547-1a7918f5ab18",
      "metadata": {
        "id": "00353445-01fb-43e8-9547-1a7918f5ab18",
        "outputId": "c8524c5b-74cd-42d0-f575-da31096ec577",
        "colab": {
          "base_uri": "https://localhost:8080/"
        }
      },
      "outputs": [
        {
          "output_type": "stream",
          "name": "stdout",
          "text": [
            "['', 'noahtsehai@gmail.com', '', '', 'raindrops.1021@gmail.com', 'Rachelziering1@icloud.com', 'adwaitgo@gmail.com', 'st3phani3.montgom3ry@gmail.com', 'kajalpatel7@yahoo.com', 'romasel.dadea@yahoo.com', '', 'ssiva.mobile@gmail.com', '', '', '', 'Brittany.thomson15@outlook.com', 'vchandna0612@gmail.com', '', 'abhiraammv@gmail.com', 'emailstephney@gmail.com', 'Hasibe.kahraman@hotmail.com', 'Maritere.sanabria1984@gmail.com', '', 'beshob098@gmail.com', '', 'susan.yeruski@gmail.com', '', 'abhishekguti.145@gmail.com', '', 'vvatkinson@yahoo.com', '', '', 'Bearbarebobo@gmail.com', 'jhrp64@gmail.com', '', 'robin_l_t@icloud.com', 'ping2teja@yahoo.com', 'Pguimond@govst.edu', 'faiconperry449@gmail.com', 'iceland9596@live.com', 'vijithkumarkanchana@gmail.com', '', '', '', '', '', '', 'preetidav@gmail.com', '', 'perezcruzmaria1@gmail.com', 'yili.hengg@gmail.com', '', '', '', '']\n"
          ]
        }
      ],
      "source": [
        "# Extract unique senders \n",
        "senders = structured_logs['Sender'].unique()\n",
        "\n",
        "# Extract and group all messages by Sender into a comma separated string\n",
        "chat = [\", \".join([message for message in structured_logs['Message'].loc[structured_logs['Sender'] == sender]]) for sender in senders]\n",
        "\n",
        "# Extract any email mentioned in a message using a regex pattern.\n",
        "# None is replaced with empty strings\n",
        "# TODO: Add verification to determine if email is the Senders email\n",
        "pattern = r'([A-Za-z0-9]+[.-_])*[A-Za-z0-9]+@[A-Za-z0-9-]+(\\.[A-Z|a-z]{2,})+'\n",
        "emails = [re.search(pattern, line) for line in chat]\n",
        "for i in range(len(emails)):\n",
        "    if emails[i]:\n",
        "        emails[i] = emails[i].group(0)\n",
        "emails = [\"\" if not email else email for email in emails]\n",
        "print(emails)"
      ]
    },
    {
      "cell_type": "code",
      "execution_count": 28,
      "id": "baf0a19f-e524-493d-9a05-6ace226d95cd",
      "metadata": {
        "id": "baf0a19f-e524-493d-9a05-6ace226d95cd"
      },
      "outputs": [],
      "source": [
        "# Construct the DataFrame for the logs with chat messages grouped by sender\n",
        "chat_logs_df = pd.DataFrame(data={'name': senders, 'email': emails, 'chat': chat})"
      ]
    },
    {
      "cell_type": "code",
      "execution_count": 29,
      "id": "7369ac56-9592-4d2e-a87a-1fa96934c76a",
      "metadata": {
        "id": "7369ac56-9592-4d2e-a87a-1fa96934c76a"
      },
      "outputs": [],
      "source": [
        "# Sort and reindex\n",
        "chat_logs_df.sort_values('name', inplace=True)\n",
        "chat_logs_df.reset_index(drop=True, inplace=True)"
      ]
    },
    {
      "cell_type": "code",
      "execution_count": 30,
      "id": "e925cd36-3a9c-4776-b880-f57c6263e010",
      "metadata": {
        "id": "e925cd36-3a9c-4776-b880-f57c6263e010"
      },
      "outputs": [],
      "source": [
        "# Export to csv\n",
        "chat_logs_df.to_csv('zoom_chat_logs.csv')"
      ]
    },
    {
      "cell_type": "code",
      "execution_count": null,
      "id": "4fccb959-4168-4a16-a484-01cddcff316b",
      "metadata": {
        "id": "4fccb959-4168-4a16-a484-01cddcff316b"
      },
      "outputs": [],
      "source": [
        ""
      ]
    }
  ],
  "metadata": {
    "kernelspec": {
      "display_name": "Python 3 (ipykernel)",
      "language": "python",
      "name": "python3"
    },
    "language_info": {
      "codemirror_mode": {
        "name": "ipython",
        "version": 3
      },
      "file_extension": ".py",
      "mimetype": "text/x-python",
      "name": "python",
      "nbconvert_exporter": "python",
      "pygments_lexer": "ipython3",
      "version": "3.10.4"
    },
    "colab": {
      "name": "ZoomChat_Extract.ipynb",
      "provenance": []
    }
  },
  "nbformat": 4,
  "nbformat_minor": 5
}